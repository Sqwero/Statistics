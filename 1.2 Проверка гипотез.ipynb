{
 "cells": [
  {
   "cell_type": "markdown",
   "id": "bf0dec23",
   "metadata": {},
   "source": [
    "# Нормальное распределение\n",
    "\n",
    "Нормальное распределение, это распределение, которое соответствует следующим критериям:\n",
    "- унимодальность;\n",
    "- симметричность;\n",
    "- отклонения подчиняются вероятностному закону нормального распределения.\n",
    "\n",
    "Например:\n",
    "\n",
    "* В диапазоне от среднего до 1σ (одного стандартного отклонения) будет находиться примерно 34.1% всех наблюдений\n",
    "\n",
    "* В диапазоне от 1σσσ до 2σ – примерно 13.6%\n",
    "\n",
    "* Очень маловероятно встретить наблюдение, которое бы превосходило среднее значение больше чем на 3 стандартных отклонения (3σ) \n",
    "\n",
    "Также мы можем заметить, что отклонение от среднего равновероятно как в большую, так и в меньшую стороны.\n",
    "\n",
    "<img src='./images/1.2_normal_distribution.png'></img>\n",
    "\n",
    "Пример в Python:"
   ]
  },
  {
   "cell_type": "code",
   "execution_count": 48,
   "id": "981bee77",
   "metadata": {},
   "outputs": [
    {
     "name": "stderr",
     "output_type": "stream",
     "text": [
      "D:\\Anaconda\\lib\\site-packages\\seaborn\\distributions.py:2619: FutureWarning: `distplot` is a deprecated function and will be removed in a future version. Please adapt your code to use either `displot` (a figure-level function with similar flexibility) or `histplot` (an axes-level function for histograms).\n",
      "  warnings.warn(msg, FutureWarning)\n"
     ]
    },
    {
     "data": {
      "image/png": "[encoded data removed]",
      "text/plain": [
       "<Figure size 432x288 with 1 Axes>"
      ]
     },
     "metadata": {
      "needs_background": "light"
     },
     "output_type": "display_data"
    }
   ],
   "source": [
    "from numpy import random\n",
    "import matplotlib.pyplot as plt\n",
    "import seaborn as sns\n",
    "\n",
    "sns.distplot(random.normal(size=10000), hist=True)\n",
    "plt.show()"
   ]
  },
  {
   "cell_type": "markdown",
   "id": "1a4099f0",
   "metadata": {},
   "source": [
    "# Стандартизация\n",
    "\n",
    "**Стандартизация** (Z-преобразование) – преобразование, которое позволяет любую шкалу перевести в стандартную Z-шкалу (Z-scores), где среднее значение будет равно нулю, а стандартное отклонение равняться единице. Форма распределения при этом не изменится.\n",
    "\n",
    "Таким образом, если мы из каждого наблюдения в нашей выборке отнимем среднее значение и разделим выражение на стандартное отклонение, то получим Z-шкалу, где новое среднее станет равно нулю, а дисперсия – единице.\n",
    "\n",
    "<span style=\"font-size:1.5em;\">$Z_i$ = $\\frac{x_{i} - \\overline{X}}{σ_x}$</span>\n",
    "\n",
    ">`from scipy.stats import zscore`\n",
    ">\n",
    ">`zscore(df.column_1)`"
   ]
  },
  {
   "cell_type": "markdown",
   "id": "a41d3d2c",
   "metadata": {},
   "source": [
    "# Правило \"двух\" и \"трех\" сигм"
   ]
  },
  {
   "cell_type": "markdown",
   "id": "8f040976",
   "metadata": {},
   "source": [
    "<span style=\"font-size:1.0em;\">$M_x$±σ≈68%</span> наблюдений находятся в этом интервале\n",
    "\n",
    "<span style=\"font-size:1.0em;\">$M_x$±2σ≈95%</span> наблюдений находятся в этом интервале\n",
    "\n",
    "<span style=\"font-size:1.0em;\">$M_x$±3σ≈100%</span> наблюдений находятся в этом интервале\n",
    "\n",
    "Например: среднее значение равняется 50, а стандартное отклонение равно 4. Какой процент наблюдений превосходит значение, равное 52?\n",
    "\n",
    "Для этого нужно сделать Z-преобразование: (52 - 50) / 4 = 0.5\n",
    "\n",
    "Далее узнаем ответ с помощью таблицы z-значений.\n",
    "\n",
    "\n",
    "Так как нормальное распределение симметрично, то знак z-значения не принципиален.\n",
    "\n",
    "<img src='./images/1.2_z-score-table.jpg'></img>\n",
    "\n",
    "В диапазоне превышающем 0.5 в z-шкале находится примерно 30% наших наблюдений. То есть вероятность встретить значение, превосходящее 0.5 в z-шкале равна 30%."
   ]
  },
  {
   "cell_type": "markdown",
   "id": "a349c10d",
   "metadata": {},
   "source": [
    "# Центральная предельная теорема\n",
    "\n",
    "Предположим, что некоторый признак нормально распределен в генеральной совокупности (ГС), среднее = 0, стандартное отклонение = 15. \n",
    "\n",
    "<img src='./images/1.2_clt2.png'></img>\n",
    "\n",
    "Если мы будем многократно извлекать выборки по 35 наблюдений из генеральной совокупности и внутри каждой выборки рассчитывать среднее значение и стандартное отклонение, то заметим, что распределение признака будет изменяться от выборки к выборке, при этом значения средних также будет варьироваться в положительную или отрицательную сторону.\n",
    "\n",
    "<img src='./images/1.2_clt3.png'></img>\n",
    "\n",
    "Далее мы строим распределение выборочных средних значений. Если в каждой выборке оценка среднего не является точной, то среднее всех средних будет очень близко к реальному среднему в генеральной совокупности. Большинство всех средних будет лежать рядом с нулем, а какие-то – отклоняться.\n",
    "\n",
    "<img src='./images/1.2_clt4.png'></img>\n",
    "\n",
    "Стандартное отклонение этого распределения называется **стандартной ошибкой среднего**. Она показывает, насколько выборочные средние отклоняются от среднего ГС.\n",
    "\n",
    "Если мы увеличим объем каждой из выборок, то распределение признака внутри каждой из групп станет больше похоже на распределение в ГС.\n",
    "\n",
    "<img src='./images/1.2_clt5.png'></img>\n",
    "\n",
    "Оценки также станут более точными, при этом стандартная ошибка уменьшится.\n",
    "\n",
    "<img src='./images/1.2_clt6.png'></img>\n",
    "\n",
    "Иными словами: при увеличении числа выборок и их размера уменьшается изменчивость выборочного распределения средних, и средние выборок будут находиться ближе к реальному среднему ГС (закон больших чисел).\n",
    "\n",
    "**При достаточных размерах выборок и повторных их извлечений выборочное распределение средних будет нормальным даже если признак в ГС распределен не нормально!**\n",
    "\n",
    "[Калькулятор для симуляции ЦПТ](https://gallery.shinyapps.io/CLT_mean/)"
   ]
  },
  {
   "cell_type": "markdown",
   "id": "c3f81f52",
   "metadata": {},
   "source": [
    "# Стандартная ошибка среднего\n",
    "\n",
    "**Стандартная ошибка среднего (SE)** — показывает, насколько выборочное среднее отличается от среднего генеральной совокупности. SE при увеличении размера выборки будет стремиться к нулю.\n",
    "\n",
    "se = σ / $\\sqrt{n}$\n",
    "\n",
    "Если выборка репрезентативна и число наблюдений n ≥ 30, то в качестве стандартного отклонения ГС мы можем использовать стандартное отклонение выборки:\n",
    "\n",
    "se = $sd_x$ / $\\sqrt{n}$\n",
    "\n",
    ">df.column_1.sem() # pandas\n",
    ">\n",
    ">stats.sem(df.column_1) # scipy.stats"
   ]
  }
 ],
 "metadata": {
  "kernelspec": {
   "display_name": "Python 3 (ipykernel)",
   "language": "python",
   "name": "python3"
  },
  "language_info": {
   "codemirror_mode": {
    "name": "ipython",
    "version": 3
   },
   "file_extension": ".py",
   "mimetype": "text/x-python",
   "name": "python",
   "nbconvert_exporter": "python",
   "pygments_lexer": "ipython3",
   "version": "3.9.7"
  }
 },
 "nbformat": 4,
 "nbformat_minor": 5
}
